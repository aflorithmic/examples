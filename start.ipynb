{
 "cells": [
  {
   "cell_type": "markdown",
   "id": "f0f81bf0",
   "metadata": {},
   "source": [
    "# Getting started with API Audio!\n",
    "\n",
    "In this interactive jupyter notebook we will provider a super awesome interactive tutorial on how to use api audio, to make audio!\n"
   ]
  },
  {
   "cell_type": "markdown",
   "id": "c2529090",
   "metadata": {},
   "source": [
    "First we need to import apiaudio, you can install this with either; `pip install apiaudio` *or* `pip3 install apiaudio`"
   ]
  },
  {
   "cell_type": "code",
   "execution_count": 2,
   "id": "51e325fa",
   "metadata": {},
   "outputs": [],
   "source": [
    "import apiaudio"
   ]
  },
  {
   "cell_type": "markdown",
   "id": "e8703731",
   "metadata": {},
   "source": [
    "To use apiaudio you will need an api key. Head on over to [https://www.api.audio/](apiaudio) to get an key! Did we \n",
    "mention - Its free to get started!\n",
    "\n",
    "Once you have your key paste it below:"
   ]
  },
  {
   "cell_type": "code",
   "execution_count": 3,
   "id": "4a369299",
   "metadata": {},
   "outputs": [],
   "source": [
    "apiaudio.api_key = \"\""
   ]
  },
  {
   "cell_type": "markdown",
   "id": "ba6095cb",
   "metadata": {},
   "source": [
    "Awesome! Now we can start"
   ]
  },
  {
   "cell_type": "code",
   "execution_count": 4,
   "id": "fb5d4e00",
   "metadata": {},
   "outputs": [
    {
     "name": "stdout",
     "output_type": "stream",
     "text": [
      "b0426ecea7614d0c91f8ec9e8a029c65\n"
     ]
    }
   ],
   "source": [
    "print(apiaudio.api_key)"
   ]
  },
  {
   "cell_type": "code",
   "execution_count": 6,
   "id": "aa0813ae",
   "metadata": {},
   "outputs": [
    {
     "name": "stdout",
     "output_type": "stream",
     "text": [
      "{'orgId': 'salihbusiness-43fb7b35', 'projectName': 'default', 'moduleName': 'default', 'scriptName': 'default', 'scriptId': 'c2e13c4a-7640-49f6-9a27-1d582780d852', 'scriptText': '<<sectionName::default>>hello linda!', 'version': 'v0', 'availableVersions': ['v0', 'v1', 'v2', 'v3', 'v4', 'v5'], 'estimatedLength': '0.67', 'sections': [{'name': 'default', 'text': 'hello linda!', 'text_original': '<<sectionName::default>>hello linda!', 'order': '1', 'orderString': '1of1', 'parameters': {}, 'soundEffect': '', 'soundSegment': '', 'media': ''}], 'creationDate': '2022-08-12T09:07:45.241946', 'containsDictionary': False}\n"
     ]
    }
   ],
   "source": [
    "r = apiaudio.Script.create(scriptText=\"hello linda!\")\n",
    "print(r)"
   ]
  },
  {
   "cell_type": "code",
   "execution_count": null,
   "id": "b4381be5",
   "metadata": {},
   "outputs": [],
   "source": [
    "for audience in audiences[]:\n",
    "    "
   ]
  }
 ],
 "metadata": {
  "kernelspec": {
   "display_name": "Python 3 (ipykernel)",
   "language": "python",
   "name": "python3"
  },
  "language_info": {
   "codemirror_mode": {
    "name": "ipython",
    "version": 3
   },
   "file_extension": ".py",
   "mimetype": "text/x-python",
   "name": "python",
   "nbconvert_exporter": "python",
   "pygments_lexer": "ipython3",
   "version": "3.9.12"
  }
 },
 "nbformat": 4,
 "nbformat_minor": 5
}
